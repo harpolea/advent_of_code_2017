{
 "cells": [
  {
   "cell_type": "markdown",
   "metadata": {},
   "source": [
    "# Day 8 \n",
    "\n",
    "Solutions for [day 8](http://adventofcode.com/2017/day/8)."
   ]
  },
  {
   "cell_type": "code",
   "execution_count": 1,
   "metadata": {
    "collapsed": true
   },
   "outputs": [],
   "source": [
    "#include <iostream>\n",
    "#include <vector>\n",
    "#include <string>\n",
    "#include <sstream>\n",
    "#include <iterator>\n",
    "#include <regex>\n",
    "#include <fstream>\n",
    "#include <algorithm>\n",
    "#include <map>\n",
    "#include <set>\n",
    "\n",
    "using namespace std;"
   ]
  },
  {
   "cell_type": "code",
   "execution_count": 2,
   "metadata": {},
   "outputs": [],
   "source": [
    "auto apply_op(int * a, int val, string op) {\n",
    "    if (op == \"inc\") {\n",
    "        *a += val;\n",
    "    } else {\n",
    "        *a -= val;\n",
    "    }\n",
    "}"
   ]
  },
  {
   "cell_type": "code",
   "execution_count": 5,
   "metadata": {},
   "outputs": [],
   "source": [
    "auto process_registers(string filename) {\n",
    "    map <string, int> registers;\n",
    "    ifstream filestream(filename);\n",
    "    string s;  \n",
    "    int max = 0;\n",
    "    \n",
    "    while (getline(filestream, s)) {\n",
    "        regex re(\"([a-z]+)\\\\s([a-z]+)\\\\s(-?\\\\d+)\\\\sif\\\\s([a-z]+)\\\\s(\\\\S{1,2})\\\\s(-?\\\\d+)\");\n",
    "        smatch sm;\n",
    "        \n",
    "        string r_target, op, r_condition, logical_op;\n",
    "        int val, logical_val;\n",
    "        \n",
    "        if (regex_match(s, sm, re)) {\n",
    "            r_target = sm[1].str();\n",
    "            op = sm[2].str();\n",
    "            val = stoi(sm[3].str());\n",
    "            r_condition = sm[4].str();\n",
    "            logical_op = sm[5].str();\n",
    "            logical_val = stoi(sm[6].str());\n",
    "            // initialise registers if not already there \n",
    "            registers.insert(pair<string,int>(r_target, 0));\n",
    "            registers.insert(pair<string,int>(r_condition, 0));\n",
    "\n",
    "            // if statement of doom\n",
    "            if (logical_op == \">\") {\n",
    "                if (registers[r_condition] > logical_val) apply_op(&registers[r_target], val, op);\n",
    "            } else if (logical_op == \"<\") {\n",
    "                if (registers[r_condition] < logical_val) apply_op(&registers[r_target], val, op);\n",
    "            } else if (logical_op == \">=\") {\n",
    "                if (registers[r_condition] >= logical_val) apply_op(&registers[r_target], val, op);\n",
    "            } else if (logical_op == \"<=\") {\n",
    "                if (registers[r_condition] <= logical_val) apply_op(&registers[r_target], val, op);\n",
    "            } else if (logical_op == \"==\") {\n",
    "                if (registers[r_condition] == logical_val) apply_op(&registers[r_target], val, op);\n",
    "            } else if (logical_op == \"!=\") {\n",
    "                if (registers[r_condition] != logical_val) apply_op(&registers[r_target], val, op);\n",
    "            }\n",
    "        }\n",
    "        \n",
    "        if (registers[r_target] > max) max = registers[r_target];\n",
    "    }\n",
    "    \n",
    "    // find max register\n",
    "    int max_at_end = registers.begin()->second;\n",
    "    for (auto it=registers.begin(); it != registers.end(); ++it) {\n",
    "        if (it->second > max_at_end) max_at_end = it->second;\n",
    "    }\n",
    "    \n",
    "    cout << \"Max value at end = \" << max_at_end << '\\n';\n",
    "    cout << \"Max during process = \" << max << '\\n';\n",
    "\n",
    "    return max;\n",
    "}"
   ]
  },
  {
   "cell_type": "code",
   "execution_count": 6,
   "metadata": {},
   "outputs": [
    {
     "name": "stdout",
     "output_type": "stream",
     "text": [
      "Max value at end = 3880\n",
      "Max during process = 5035\n",
      "(int) 5035\n"
     ]
    }
   ],
   "source": [
    "process_registers(\"day8.txt\")"
   ]
  }
 ],
 "metadata": {
  "kernelspec": {
   "display_name": "xeus C++14",
   "language": "",
   "name": "xeus-cling-cpp14"
  },
  "language_info": {
   "codemirror_mode": "text/x-c++src",
   "file_extension": ".cpp",
   "mimetype": "text/x-c++src",
   "name": "c++",
   "version": ""
  }
 },
 "nbformat": 4,
 "nbformat_minor": 2
}
