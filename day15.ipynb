{
 "cells": [
  {
   "cell_type": "code",
   "execution_count": 1,
   "metadata": {
    "collapsed": true
   },
   "outputs": [],
   "source": [
    "#include <iostream>\n",
    "#include <vector>\n",
    "#include <string>\n",
    "#include <sstream>\n",
    "#include <algorithm>    // std::reverse\n",
    "#include <iterator>\n",
    "#include <bitset>\n",
    "\n",
    "using namespace std;"
   ]
  },
  {
   "cell_type": "code",
   "execution_count": 2,
   "metadata": {
    "collapsed": true
   },
   "outputs": [],
   "source": [
    "long genA, genB;\n",
    "long genA_factor = 16807;\n",
    "long genB_factor = 48271;\n",
    "\n",
    "long nMatches, nLoops;"
   ]
  },
  {
   "cell_type": "markdown",
   "metadata": {},
   "source": [
    "## Part 1"
   ]
  },
  {
   "cell_type": "code",
   "execution_count": 8,
   "metadata": {},
   "outputs": [],
   "source": [
    "genA = 783;\n",
    "genB = 325;\n",
    "nMatches = 0;\n",
    "nLoops = 40000000;\n",
    "\n",
    "for (auto i = 0; i < nLoops; i++) {\n",
    "    genA = (genA * genA_factor) % (long)2147483647;\n",
    "    genB = (genB * genB_factor) % (long)2147483647;\n",
    "    bitset<32> a(genA);\n",
    "    bitset<32> b(genB);\n",
    "    for (auto j = 16; j < 32; j++) {\n",
    "        a.set(j);\n",
    "        b.set(j);\n",
    "    }\n",
    "    if (a == b) {\n",
    "        nMatches++;\n",
    "    }\n",
    "}"
   ]
  },
  {
   "cell_type": "code",
   "execution_count": 9,
   "metadata": {},
   "outputs": [
    {
     "name": "stdout",
     "output_type": "stream",
     "text": [
      "(long) 650\n"
     ]
    }
   ],
   "source": [
    "nMatches"
   ]
  },
  {
   "cell_type": "markdown",
   "metadata": {},
   "source": [
    "## Part 2"
   ]
  },
  {
   "cell_type": "code",
   "execution_count": 3,
   "metadata": {
    "collapsed": true
   },
   "outputs": [],
   "source": [
    "long jA, jB;\n",
    "int npairs;"
   ]
  },
  {
   "cell_type": "code",
   "execution_count": 6,
   "metadata": {},
   "outputs": [],
   "source": [
    "genA = 783;\n",
    "genB = 325;\n",
    "nMatches = 0;\n",
    "npairs = 0;\n",
    "jA = -1;\n",
    "jB = -1;\n",
    "\n",
    "while (npairs < 5000000) {\n",
    "    if (jA < 0) {\n",
    "        genA = (genA * genA_factor) % (long)2147483647;\n",
    "        if (genA % 4 == 0) jA = genA;\n",
    "    }\n",
    "    if (jB < 0) {\n",
    "        genB = (genB * genB_factor) % (long)2147483647;\n",
    "        if (genB % 8 == 0) jB = genB;\n",
    "    }\n",
    "    if (jA >= 0 && jB >= 0) {\n",
    "        npairs++;\n",
    "        bitset<32> a(jA);\n",
    "        bitset<32> b(jB);\n",
    "        for (auto j = 16; j < 32; j++) {\n",
    "            a.set(j);\n",
    "            b.set(j);\n",
    "        }\n",
    "        if (a == b) {\n",
    "            nMatches++;\n",
    "        }\n",
    "        jA = -1;\n",
    "        jB = -1;\n",
    "    }\n",
    "}"
   ]
  },
  {
   "cell_type": "code",
   "execution_count": 7,
   "metadata": {},
   "outputs": [
    {
     "name": "stdout",
     "output_type": "stream",
     "text": [
      "(long) 336\n"
     ]
    }
   ],
   "source": [
    "nMatches"
   ]
  },
  {
   "cell_type": "code",
   "execution_count": null,
   "metadata": {
    "collapsed": true
   },
   "outputs": [],
   "source": []
  }
 ],
 "metadata": {
  "kernelspec": {
   "display_name": "xeus C++14",
   "language": "",
   "name": "xeus-cling-cpp14"
  },
  "language_info": {
   "codemirror_mode": "text/x-c++src",
   "file_extension": ".cpp",
   "mimetype": "text/x-c++src",
   "name": "c++",
   "version": ""
  }
 },
 "nbformat": 4,
 "nbformat_minor": 2
}
