{
 "cells": [
  {
   "cell_type": "code",
   "execution_count": 1,
   "metadata": {
    "collapsed": true
   },
   "outputs": [],
   "source": [
    "#include <iostream>\n",
    "#include <vector>\n",
    "#include <string>\n",
    "#include <sstream>\n",
    "#include <iterator>\n",
    "#include <algorithm>\n",
    "#include <fstream>\n",
    "\n",
    "using namespace std;"
   ]
  },
  {
   "cell_type": "code",
   "execution_count": 2,
   "metadata": {
    "collapsed": true
   },
   "outputs": [],
   "source": [
    "auto pass_str_to_words(string str_input) {\n",
    "    stringstream instream(str_input);\n",
    "    vector <string> inputs;\n",
    "    copy(istream_iterator<string>(instream), istream_iterator<string>(), back_inserter(inputs));\n",
    "    \n",
    "    return inputs;\n",
    "}"
   ]
  },
  {
   "cell_type": "code",
   "execution_count": 3,
   "metadata": {
    "collapsed": true
   },
   "outputs": [],
   "source": [
    "auto test_validity(string password_list) {\n",
    "    int n_valid = 0;\n",
    "    \n",
    "    stringstream ss(password_list);\n",
    "    string password;\n",
    "    while (getline(ss, password)) {\n",
    "        vector <string> vec_password = pass_str_to_words(password);\n",
    "\n",
    "        // first sort as unique checks consecutive duplicates\n",
    "        // sort individual words for part 2\n",
    "        for (auto iter=vec_password.begin(); iter != vec_password.end(); iter++) {\n",
    "            sort((*iter).begin(), (*iter).end());\n",
    "        }\n",
    "        sort(vec_password.begin(), vec_password.end());\n",
    "\n",
    "        // number of words\n",
    "        size_t nwords = vec_password.size();\n",
    "\n",
    "        auto it = unique(vec_password.begin(), vec_password.end(), [] (string a, string b) {\n",
    "            return a.compare(b) == 0;\n",
    "        });\n",
    "\n",
    "        vec_password.resize(distance(vec_password.begin(), it)); // get rid of padding at end\n",
    "\n",
    "        if (nwords == vec_password.size()) {n_valid++;}\n",
    "    }\n",
    "    return n_valid;\n",
    "}"
   ]
  },
  {
   "cell_type": "code",
   "execution_count": 4,
   "metadata": {},
   "outputs": [
    {
     "name": "stdout",
     "output_type": "stream",
     "text": [
      "(bool) true\n"
     ]
    }
   ],
   "source": [
    "test_validity(\"aa bb cc dd ee\")==1 && test_validity(\"aa bb cc dd aa\")==0 && test_validity(\"aa bb cc dd aaa\")==1"
   ]
  },
  {
   "cell_type": "code",
   "execution_count": 6,
   "metadata": {
    "collapsed": true
   },
   "outputs": [],
   "source": [
    "ifstream file;\n",
    "file.open(\"day4.txt\");\n",
    "stringstream ss;\n",
    "ss << file.rdbuf();\n",
    "string lines = ss.str();"
   ]
  },
  {
   "cell_type": "code",
   "execution_count": 7,
   "metadata": {},
   "outputs": [
    {
     "name": "stdout",
     "output_type": "stream",
     "text": [
      "(int) 231\n"
     ]
    }
   ],
   "source": [
    "test_validity(lines)"
   ]
  },
  {
   "cell_type": "code",
   "execution_count": null,
   "metadata": {
    "collapsed": true
   },
   "outputs": [],
   "source": []
  }
 ],
 "metadata": {
  "kernelspec": {
   "display_name": "xeus C++14",
   "language": "",
   "name": "xeus-cling-cpp14"
  },
  "language_info": {
   "codemirror_mode": "text/x-c++src",
   "file_extension": ".cpp",
   "mimetype": "text/x-c++src",
   "name": "c++",
   "version": ""
  }
 },
 "nbformat": 4,
 "nbformat_minor": 2
}
