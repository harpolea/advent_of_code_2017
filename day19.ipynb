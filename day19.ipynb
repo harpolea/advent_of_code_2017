{
 "cells": [
  {
   "cell_type": "code",
   "execution_count": 1,
   "metadata": {
    "collapsed": true
   },
   "outputs": [],
   "source": [
    "#include <iostream>\n",
    "#include <vector>\n",
    "#include <string>\n",
    "#include <sstream>\n",
    "#include <fstream>\n",
    "#include <iterator>\n",
    "#include <algorithm>\n",
    "#include <regex>\n",
    "#include <map>\n",
    "#include <queue>\n",
    "\n",
    "using namespace std;"
   ]
  },
  {
   "cell_type": "code",
   "execution_count": 2,
   "metadata": {
    "collapsed": true
   },
   "outputs": [],
   "source": [
    "vector <vector <char>> grid;\n",
    "string filename = \"day19.txt\";\n",
    "ifstream sstream(filename);\n",
    "int row;"
   ]
  },
  {
   "cell_type": "code",
   "execution_count": 3,
   "metadata": {},
   "outputs": [],
   "source": [
    "row = 0;\n",
    "for (string line; getline(sstream, line); ) {\n",
    "    vector<char> data;\n",
    "    copy(line.begin(), line.end(), back_inserter(data));\n",
    "    grid.push_back(data);\n",
    "}"
   ]
  },
  {
   "cell_type": "code",
   "execution_count": 4,
   "metadata": {},
   "outputs": [],
   "source": [
    "bool move(vector <vector <char>> grid, pair <int,int> *pos, pair <int, int> *dir, vector <char> *letters) {\n",
    "    pair <int, int> prev_pos(*pos);\n",
    "    char prev_cell;\n",
    "    if (pos->first < 0) {\n",
    "        prev_cell = '|';\n",
    "    } else {\n",
    "        prev_cell = grid[pos->first][pos->second];\n",
    "    }\n",
    "    // move in dir\n",
    "    pos->first += dir->first;\n",
    "    pos->second += dir->second;\n",
    "    \n",
    "    //look at cell have landed on and update dir \n",
    "    char current_cell = grid[pos->first][pos->second];\n",
    "    char next_cell;\n",
    "    if (pos->first+dir->first < grid.size() && pos->second+dir->second < grid[0].size()) {\n",
    "        next_cell = grid[pos->first+dir->first][pos->second+dir->second];\n",
    "    } else {\n",
    "        next_cell = ' ';\n",
    "    }\n",
    "    smatch sm;\n",
    "    string s(1, current_cell);\n",
    "    \n",
    "    if(regex_match(s, sm, regex(\"[A-Z]\"))) letters->push_back(current_cell);\n",
    "    \n",
    "    if (prev_cell == current_cell || (prev_cell == '|' && current_cell == '-') || \n",
    "        (prev_cell == '-' && current_cell == '|') || (regex_match(s, sm, regex(\"[A-Z]\")) && next_cell != ' ') ||\n",
    "       (prev_cell == '+' && (current_cell == '|' || current_cell == '-'))) {\n",
    "        // do nothing;\n",
    "    } else if (current_cell == '+' || (regex_match(s, sm, regex(\"[A-Z]\")) && next_cell == ' ')) {\n",
    "        // check which one of its neighbours has a route out\n",
    "        // it's just going to be easiest to do this by hand tbh\n",
    "        if (dir->first == 0) {\n",
    "            if (grid[pos->first-1][pos->second] != ' ' && grid[pos->first-1][pos->second] != '-') {\n",
    "                dir->first = -1;\n",
    "                dir->second = 0;\n",
    "            } else if (grid[pos->first+1][pos->second] != ' ' && grid[pos->first+1][pos->second] != '-' ) {\n",
    "                dir->first = 1;\n",
    "                dir->second = 0;\n",
    "            } else {\n",
    "                cout << \"couldn't move left or right\\n\";\n",
    "                return true;\n",
    "            }\n",
    "        } else {\n",
    "            if (grid[pos->first][pos->second-1] != ' ' && grid[pos->first][pos->second-1] != '|') {\n",
    "                dir->first = 0;\n",
    "                dir->second = -1;\n",
    "            } else if (grid[pos->first][pos->second+1] != ' ' && grid[pos->first][pos->second+1] != '|') {\n",
    "                dir->first = 0;\n",
    "                dir->second = 1;\n",
    "            } else {\n",
    "                cout << \"couldn't move up or down\\n\";\n",
    "                return true;\n",
    "            }\n",
    "        }\n",
    "    } \n",
    "    \n",
    "    if (pos->first < 0 || pos->first >= grid.size() || pos->second < 0 || pos->second >= grid[0].size()) {\n",
    "        cout << \"fallen out of grid\\n\";\n",
    "        return true;\n",
    "    }\n",
    "    return false;\n",
    "}"
   ]
  },
  {
   "cell_type": "code",
   "execution_count": 5,
   "metadata": {
    "collapsed": true
   },
   "outputs": [],
   "source": [
    "pair<int, int> dir, pos;\n",
    "vector<char> letters;\n",
    "int counter;"
   ]
  },
  {
   "cell_type": "code",
   "execution_count": 6,
   "metadata": {},
   "outputs": [],
   "source": [
    "// find starting position\n",
    "pos.first = -1;\n",
    "for (auto i = 0; i < grid[0].size(); i++) {\n",
    "    if (grid[0][i] != ' ') {\n",
    "        pos.second = i;\n",
    "        break;\n",
    "    }\n",
    "}\n",
    "dir.first = 1;\n",
    "dir.second = 0;\n",
    "letters.clear();\n",
    "counter = 1;"
   ]
  },
  {
   "cell_type": "code",
   "execution_count": 7,
   "metadata": {},
   "outputs": [
    {
     "name": "stdout",
     "output_type": "stream",
     "text": [
      "couldn't move up or down\n"
     ]
    }
   ],
   "source": [
    "while(!move(grid, &pos, &dir, &letters)) { \n",
    "    counter++;\n",
    "}"
   ]
  },
  {
   "cell_type": "code",
   "execution_count": 8,
   "metadata": {},
   "outputs": [
    {
     "name": "stdout",
     "output_type": "stream",
     "text": [
      "VTWBPYAQFU"
     ]
    }
   ],
   "source": [
    "for (auto it=letters.begin(); it!=letters.end(); ++it) {\n",
    "    cout << *it;\n",
    "}"
   ]
  },
  {
   "cell_type": "code",
   "execution_count": 9,
   "metadata": {},
   "outputs": [
    {
     "name": "stdout",
     "output_type": "stream",
     "text": [
      "(int) 17358\n"
     ]
    }
   ],
   "source": [
    "counter"
   ]
  }
 ],
 "metadata": {
  "kernelspec": {
   "display_name": "xeus C++14",
   "language": "",
   "name": "xeus-cling-cpp14"
  },
  "language_info": {
   "codemirror_mode": "text/x-c++src",
   "file_extension": ".cpp",
   "mimetype": "text/x-c++src",
   "name": "c++",
   "version": ""
  }
 },
 "nbformat": 4,
 "nbformat_minor": 2
}
