{
 "cells": [
  {
   "cell_type": "code",
   "execution_count": 1,
   "metadata": {
    "collapsed": true
   },
   "outputs": [],
   "source": [
    "#include <iostream>\n",
    "#include <vector>\n",
    "#include <iterator>\n",
    "#include <algorithm>\n",
    "\n",
    "using namespace std;"
   ]
  },
  {
   "cell_type": "markdown",
   "metadata": {},
   "source": [
    "## Part 1\n",
    "\n",
    "Solve by brute force"
   ]
  },
  {
   "cell_type": "code",
   "execution_count": 2,
   "metadata": {},
   "outputs": [],
   "source": [
    "vector <int> spinlock;\n",
    "int step = 329;\n",
    "int ninsertions = 2017;\n",
    "spinlock.reserve(ninsertions);"
   ]
  },
  {
   "cell_type": "code",
   "execution_count": 3,
   "metadata": {},
   "outputs": [],
   "source": [
    "spinlock.clear();\n",
    "spinlock.push_back(0);\n",
    "for (int i = 0; i < ninsertions; i++) {\n",
    "    rotate(spinlock.begin(), spinlock.begin()+step % spinlock.size(), spinlock.end());\n",
    "    spinlock.push_back(i+1);\n",
    "}"
   ]
  },
  {
   "cell_type": "code",
   "execution_count": 4,
   "metadata": {},
   "outputs": [
    {
     "name": "stdout",
     "output_type": "stream",
     "text": [
      "(int) 725\n"
     ]
    }
   ],
   "source": [
    "spinlock[0]"
   ]
  },
  {
   "cell_type": "markdown",
   "metadata": {},
   "source": [
    "## Part 2\n",
    "Cannot brute force it - just keep track of position of 0 and what its neighbour is"
   ]
  },
  {
   "cell_type": "code",
   "execution_count": 5,
   "metadata": {
    "collapsed": true
   },
   "outputs": [],
   "source": [
    "int pos, neighbour;"
   ]
  },
  {
   "cell_type": "code",
   "execution_count": 6,
   "metadata": {},
   "outputs": [],
   "source": [
    "pos = 0; \n",
    "neighbour = 0;\n",
    "step = 329;\n",
    "ninsertions = 50000000;\n",
    "for (int i = 1; i < ninsertions; i++) {\n",
    "    pos = (pos - step + (step / i + 1) * i) % i;\n",
    "    if (pos == i-1) neighbour = i;\n",
    "}"
   ]
  },
  {
   "cell_type": "code",
   "execution_count": 7,
   "metadata": {},
   "outputs": [
    {
     "name": "stdout",
     "output_type": "stream",
     "text": [
      "(int) 27361412\n"
     ]
    }
   ],
   "source": [
    "neighbour"
   ]
  }
 ],
 "metadata": {
  "kernelspec": {
   "display_name": "xeus C++14",
   "language": "",
   "name": "xeus-cling-cpp14"
  },
  "language_info": {
   "codemirror_mode": "text/x-c++src",
   "file_extension": ".cpp",
   "mimetype": "text/x-c++src",
   "name": "c++",
   "version": ""
  }
 },
 "nbformat": 4,
 "nbformat_minor": 2
}
