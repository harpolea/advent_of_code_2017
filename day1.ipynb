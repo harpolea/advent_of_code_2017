{
 "cells": [
  {
   "cell_type": "markdown",
   "metadata": {},
   "source": [
    "# Day 1\n",
    "\n",
    "Solution to [day 1](http://adventofcode.com/2017/day/1)."
   ]
  },
  {
   "cell_type": "code",
   "execution_count": 1,
   "metadata": {
    "collapsed": true
   },
   "outputs": [],
   "source": [
    "#include <iostream>\n",
    "#include <vector>\n",
    "#include <string>\n",
    "#include <sstream>\n",
    "#include <iterator>\n",
    "\n",
    "using namespace std;"
   ]
  },
  {
   "cell_type": "code",
   "execution_count": 2,
   "metadata": {},
   "outputs": [],
   "source": [
    "int return_sum(vector<int> input) {\n",
    "    /*find the sum of all digits that match the next \n",
    "        digit in the list. The list is circular, so the \n",
    "        digit after the last digit is the first digit in the list.\n",
    "    */\n",
    "\n",
    "    int input_len = input.size();\n",
    "\n",
    "    int sum = 0;\n",
    "    \n",
    "    for (int i = 0; i < input_len-1; i++) {\n",
    "        if (input[i] == input[i+1]) {\n",
    "            sum += input[i];\n",
    "        }\n",
    "    }\n",
    "    // do special case for last element\n",
    "    if (input.back() == input[0]) sum += input[0];\n",
    "    \n",
    "    return sum;\n",
    "}"
   ]
  },
  {
   "cell_type": "code",
   "execution_count": 3,
   "metadata": {},
   "outputs": [],
   "source": [
    "auto pass_str_to_ints(string str_input) {\n",
    "    // convert string to vector of ints\n",
    "    \n",
    "    vector<int> real_input;\n",
    "    real_input.reserve(str_input.size());\n",
    "    transform(begin(str_input), end(str_input), back_inserter(real_input), [](char c) {\n",
    "        return c - '0';\n",
    "    });\n",
    "    \n",
    "    return real_input;\n",
    "    \n",
    "}"
   ]
  },
  {
   "cell_type": "code",
   "execution_count": 4,
   "metadata": {},
   "outputs": [],
   "source": [
    "// test inputs\n",
    "vector<int> input1 = {1, 1, 2, 2};\n",
    "vector<int> input2 = {1, 1, 1, 1};\n",
    "vector<int> input3 = {1, 2, 3, 4};\n",
    "vector<int> input4 = {9,1,2,1,2,1,2,9};"
   ]
  },
  {
   "cell_type": "code",
   "execution_count": 5,
   "metadata": {},
   "outputs": [
    {
     "name": "stdout",
     "output_type": "stream",
     "text": [
      "(bool) true\n"
     ]
    }
   ],
   "source": [
    "return_sum(input1) == 3 && \n",
    "    return_sum(input2) == 4 && \n",
    "    return_sum(input3) == 0 && \n",
    "    return_sum(input4) == 9"
   ]
  },
  {
   "cell_type": "code",
   "execution_count": 6,
   "metadata": {
    "collapsed": true
   },
   "outputs": [],
   "source": [
    "string str_input = \"21752342814933766938172121674976879111362417653261522357855816893656462449168377359285244818489723869987861247912289729579296691684761143544956991583942215236568961875851755854977946147178746464675227699149925227227137557479769948569788884399379821111382536722699575759474473273939756348992714667963596189765734743169489599125771443348193383566159843593541134749392569865481578359825844394454173219857919349341442148282229689541561169341622222354651397342928678496478671339383923769856425795211323673389723181967933933832711545885653952861879231537976292517866354812943192728263269524735698423336673735158993853556148833861327959262254756647827739145283577793481526768156921138428318939361859721778556264519643435871835744859243167227889562738712953651128317624673985213525897522378259178625416722152155728615936587369515254936828668564857283226439881266871945998796488472249182538883354186573925183152663862683995449671663285775397453876262722567452435914777363522817594741946638986571793655889466419895996924122915777224499481496837343194149123735355268151941712871245863553836953349887831949788869852929147849489265325843934669999391846286319268686789372513976522282587526866148166337215961493536262851512218794139272361292811529888161198799297966893366553115353639298256788819385272471187213579185523521341651117947676785341146235441411441813242514813227821843819424619974979886871646621918865274574538951761567855845681272364646138584716333599843835167373525248547542442942583122624534494442516259616973235858469131159773167334953658673271599748942956981954699444528689628848694446818825465485122869742839711471129862632128635779658365756362863627135983617613332849756371986376967117549251566281992964573929655589313871976556784849231916513831538254812347116253949818633527185174221565279775766742262687713114114344843534958833372634182176866315441583887177759222598853735114191874277711434653854816841589229914164681364497429324463193669337827467661773833517841763711156376147664749175267212562321567728575765844893232718971471289841171642868948852136818661741238178676857381583155547755219837116125995361896562498721571413742\";"
   ]
  },
  {
   "cell_type": "code",
   "execution_count": 7,
   "metadata": {},
   "outputs": [
    {
     "name": "stdout",
     "output_type": "stream",
     "text": [
      "(int) 1119\n"
     ]
    }
   ],
   "source": [
    "return_sum(pass_str_to_ints(str_input))"
   ]
  },
  {
   "cell_type": "code",
   "execution_count": 8,
   "metadata": {
    "collapsed": true
   },
   "outputs": [],
   "source": [
    "int return_sum_part2(vector<int> input) {\n",
    "    /*\n",
    "    instead of considering the next digit, it wants you to \n",
    "    consider the digit halfway around the circular list. \n",
    "    That is, if your list contains 10 items, only include a digit \n",
    "    in your sum if the digit 10/2 = 5 steps forward matches it. \n",
    "    Fortunately, your list has an even number of elements.\n",
    "    */\n",
    "\n",
    "    int input_len = input.size();\n",
    "\n",
    "    int sum = 0;\n",
    "    \n",
    "    for (int i = 0; i < input_len/2; i++) {\n",
    "        if (input[i] == input[i+input_len / 2]) {\n",
    "            sum += 2*input[i];\n",
    "        }\n",
    "    }\n",
    "    \n",
    "    return sum;\n",
    "}"
   ]
  },
  {
   "cell_type": "code",
   "execution_count": 9,
   "metadata": {},
   "outputs": [],
   "source": [
    "// test inputs\n",
    "string input5 = \"1212\";\n",
    "string input6 = \"1221\";\n",
    "string input7 = \"123425\";\n",
    "string input8 = \"123123\";\n",
    "string input9 = \"12131415\";"
   ]
  },
  {
   "cell_type": "code",
   "execution_count": 10,
   "metadata": {},
   "outputs": [
    {
     "name": "stdout",
     "output_type": "stream",
     "text": [
      "(bool) true\n"
     ]
    }
   ],
   "source": [
    "return_sum_part2(pass_str_to_ints(input5)) == 6 &&\n",
    "    return_sum_part2(pass_str_to_ints(input6)) == 0 &&\n",
    "    return_sum_part2(pass_str_to_ints(input7)) == 4 &&\n",
    "    return_sum_part2(pass_str_to_ints(input8)) == 12 &&\n",
    "    return_sum_part2(pass_str_to_ints(input9)) == 4"
   ]
  },
  {
   "cell_type": "code",
   "execution_count": 11,
   "metadata": {},
   "outputs": [
    {
     "name": "stdout",
     "output_type": "stream",
     "text": [
      "(int) 1420\n"
     ]
    }
   ],
   "source": [
    "return_sum_part2(pass_str_to_ints(str_input))"
   ]
  }
 ],
 "metadata": {
  "kernelspec": {
   "display_name": "xeus C++14",
   "language": "",
   "name": "xeus-cling-cpp14"
  },
  "language_info": {
   "codemirror_mode": "text/x-c++src",
   "file_extension": ".cpp",
   "mimetype": "text/x-c++src",
   "name": "c++",
   "version": ""
  }
 },
 "nbformat": 4,
 "nbformat_minor": 2
}
