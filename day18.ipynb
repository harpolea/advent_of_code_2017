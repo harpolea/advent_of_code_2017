{
 "cells": [
  {
   "cell_type": "code",
   "execution_count": 1,
   "metadata": {
    "collapsed": true
   },
   "outputs": [],
   "source": [
    "#include <iostream>\n",
    "#include <vector>\n",
    "#include <string>\n",
    "#include <sstream>\n",
    "#include <fstream>\n",
    "#include <iterator>\n",
    "#include <algorithm>\n",
    "#include <regex>\n",
    "#include <map>\n",
    "#include <queue>\n",
    "\n",
    "using namespace std;"
   ]
  },
  {
   "cell_type": "code",
   "execution_count": 2,
   "metadata": {},
   "outputs": [],
   "source": [
    "string filename = \"day18.txt\";\n",
    "ifstream sstream(filename);\n",
    "vector <string> instructions;\n",
    "regex re(\"([a-z]+)\\\\s(-?\\\\w+)\\\\s?(-?\\\\w*)\");"
   ]
  },
  {
   "cell_type": "code",
   "execution_count": 3,
   "metadata": {},
   "outputs": [],
   "source": [
    "for (string line; getline(sstream, line); )\n",
    "    instructions.push_back(line);"
   ]
  },
  {
   "cell_type": "code",
   "execution_count": 4,
   "metadata": {},
   "outputs": [],
   "source": [
    "int pos = 0;\n",
    "map <string, long> registers;\n",
    "smatch sm;\n",
    "int last_sound = 0;"
   ]
  },
  {
   "cell_type": "code",
   "execution_count": 5,
   "metadata": {},
   "outputs": [],
   "source": [
    "void run_instruction(string instruction, int * pos, map <string, long> *rs) {\n",
    "    regex_match(instruction, sm, re);\n",
    "    string ins = sm[1].str();\n",
    "    if (ins == \"snd\") {\n",
    "        try {\n",
    "            int X = stoi(sm[2].str());\n",
    "            last_sound = X;\n",
    "        } catch(exception& e) {\n",
    "            string X = sm[2].str();\n",
    "            rs->insert(pair<string, int>(X, 0));\n",
    "            last_sound = (*rs)[X];\n",
    "        }\n",
    "    } else if (ins == \"set\") {\n",
    "        string X = sm[2].str();\n",
    "        rs->insert(pair<string, int>(X, 0));\n",
    "        try {\n",
    "            int Y = stoi(sm[3].str());\n",
    "            (*rs)[X] = Y;\n",
    "        } catch(exception& e) {\n",
    "            string Y = sm[3].str();\n",
    "            rs->insert(pair<string, int>(Y, 0));\n",
    "            (*rs)[X] = (*rs)[Y];\n",
    "        }\n",
    "    } else if (ins == \"add\") {\n",
    "        string X = sm[2].str();\n",
    "        rs->insert(pair<string, int>(X, 0));\n",
    "        try {\n",
    "            int Y = stoi(sm[3].str());\n",
    "            (*rs)[X] += Y;\n",
    "        } catch(exception& e) {\n",
    "            string Y = sm[3].str();\n",
    "            rs->insert(pair<string, int>(Y, 0));\n",
    "            (*rs)[X] += (*rs)[Y];\n",
    "        }\n",
    "    } else if (ins == \"mul\") {\n",
    "        string X = sm[2].str();\n",
    "        rs->insert(pair<string, int>(X, 0));\n",
    "        try {\n",
    "            int Y = stoi(sm[3].str());\n",
    "            (*rs)[X] *= Y;\n",
    "        } catch(exception& e) {\n",
    "            string Y = sm[3].str();\n",
    "            rs->insert(pair<string, int>(Y, 0));\n",
    "            (*rs)[X] *= (*rs)[Y];\n",
    "        }\n",
    "    } else if (ins == \"mod\") {\n",
    "        string X = sm[2].str();\n",
    "        rs->insert(pair<string, int>(X, 0));\n",
    "        try {\n",
    "            int Y = stoi(sm[3].str());\n",
    "            (*rs)[X] %= Y;\n",
    "        } catch(exception& e) {\n",
    "            string Y = sm[3].str();\n",
    "            rs->insert(pair<string, int>(Y, 0));\n",
    "            (*rs)[X] %= (*rs)[Y];\n",
    "        }\n",
    "    } else if (ins == \"rcv\") {\n",
    "        int X;\n",
    "        try {\n",
    "            X = stoi(sm[2].str());\n",
    "        } catch(exception& e) {\n",
    "            string Y = sm[2].str();\n",
    "            rs->insert(pair<string, int>(Y, 0));\n",
    "            X = (*rs)[Y];\n",
    "        }\n",
    "        if (X != 0) {\n",
    "            *pos = -2;\n",
    "        }\n",
    "    } else if (ins == \"jgz\") {\n",
    "        int iX, iY;\n",
    "        try {\n",
    "            iX = stoi(sm[2].str());\n",
    "        } catch(exception& e) {\n",
    "            string X = sm[2].str();\n",
    "            rs->insert(pair<string, int>(X, 0));\n",
    "            iX = (*rs)[X];\n",
    "        }\n",
    "        try {\n",
    "            iY = stoi(sm[3].str());\n",
    "        } catch(exception& e) {\n",
    "            string Y = sm[3].str();\n",
    "            rs->insert(pair<string, int>(Y, 0));\n",
    "            iY = (*rs)[Y];\n",
    "        }\n",
    "        if (iX > 0) {\n",
    "            *pos += iY-1;\n",
    "        } \n",
    "    }\n",
    "}"
   ]
  },
  {
   "cell_type": "code",
   "execution_count": 6,
   "metadata": {},
   "outputs": [],
   "source": [
    "pos = 0;\n",
    "while (pos >= 0 && pos < instructions.size()){\n",
    "    run_instruction(instructions[pos], &pos, &registers);\n",
    "    pos++;\n",
    "}"
   ]
  },
  {
   "cell_type": "code",
   "execution_count": 7,
   "metadata": {},
   "outputs": [
    {
     "name": "stdout",
     "output_type": "stream",
     "text": [
      "(int) 1187\n"
     ]
    }
   ],
   "source": [
    "last_sound"
   ]
  },
  {
   "cell_type": "markdown",
   "metadata": {},
   "source": [
    "## Part 2"
   ]
  },
  {
   "cell_type": "code",
   "execution_count": 5,
   "metadata": {
    "collapsed": true
   },
   "outputs": [],
   "source": [
    "map <string, long> registers0;\n",
    "map <string, long> registers1;\n",
    "int pos0, pos1;\n",
    "queue<int> q0;\n",
    "queue<int> q1;\n",
    "bool wait0;\n",
    "bool wait1;\n",
    "int send0, send1;"
   ]
  },
  {
   "cell_type": "code",
   "execution_count": 6,
   "metadata": {},
   "outputs": [],
   "source": [
    "void run_instruction2(string instruction, int * pos, map <string, long> *rs, \n",
    "                      queue<int> * myq, queue<int> * yourq, bool * mywait, bool * yourwait, int * send_counter) {\n",
    "    if (*mywait) return;\n",
    "    regex_match(instruction, sm, re);\n",
    "    string ins = sm[1].str();\n",
    "    if (ins == \"snd\") {\n",
    "        try {\n",
    "            yourq->push(stoi(sm[2].str()));\n",
    "        } catch(exception& e) {\n",
    "            string X = sm[2].str();\n",
    "            rs->insert(pair<string, int>(X, 0));\n",
    "            yourq->push((*rs)[X]);\n",
    "        }\n",
    "        *send_counter += 1;\n",
    "        *yourwait = false;\n",
    "    } else if (ins == \"set\") {\n",
    "        string X = sm[2].str();\n",
    "        rs->insert(pair<string, int>(X, 0));\n",
    "        try {\n",
    "            int Y = stoi(sm[3].str());\n",
    "            (*rs)[X] = Y;\n",
    "        } catch(exception& e) {\n",
    "            string Y = sm[3].str();\n",
    "            rs->insert(pair<string, int>(Y, 0));\n",
    "            (*rs)[X] = (*rs)[Y];\n",
    "        }\n",
    "    } else if (ins == \"add\") {\n",
    "        string X = sm[2].str();\n",
    "        rs->insert(pair<string, int>(X, 0));\n",
    "        try {\n",
    "            int Y = stoi(sm[3].str());\n",
    "            (*rs)[X] += Y;\n",
    "        } catch(exception& e) {\n",
    "            string Y = sm[3].str();\n",
    "            rs->insert(pair<string, int>(Y, 0));\n",
    "            (*rs)[X] += (*rs)[Y];\n",
    "        }\n",
    "    } else if (ins == \"mul\") {\n",
    "        string X = sm[2].str();\n",
    "        rs->insert(pair<string, int>(X, 0));\n",
    "        try {\n",
    "            int Y = stoi(sm[3].str());\n",
    "            (*rs)[X] *= Y;\n",
    "        } catch(exception& e) {\n",
    "            string Y = sm[3].str();\n",
    "            rs->insert(pair<string, int>(Y, 0));\n",
    "            (*rs)[X] *= (*rs)[Y];\n",
    "        }\n",
    "    } else if (ins == \"mod\") {\n",
    "        string X = sm[2].str();\n",
    "        rs->insert(pair<string, int>(X, 0));\n",
    "        try {\n",
    "            int Y = stoi(sm[3].str());\n",
    "            (*rs)[X] %= Y;\n",
    "        } catch(exception& e) {\n",
    "            string Y = sm[3].str();\n",
    "            rs->insert(pair<string, int>(Y, 0));\n",
    "            (*rs)[X] %= (*rs)[Y];\n",
    "        }\n",
    "    } else if (ins == \"rcv\") {\n",
    "        string Y = sm[2].str();\n",
    "        rs->insert(pair<string, int>(Y, 0));\n",
    "        if (myq->empty()) {\n",
    "            *mywait = true;\n",
    "            return;\n",
    "        } else {\n",
    "            (*rs)[Y] = myq->front();\n",
    "            myq->pop();\n",
    "        }\n",
    "    } else if (ins == \"jgz\") {\n",
    "        int iX, iY;\n",
    "        try {\n",
    "            iX = stoi(sm[2].str());\n",
    "        } catch(exception& e) {\n",
    "            string X = sm[2].str();\n",
    "            rs->insert(pair<string, int>(X, 0));\n",
    "            iX = (*rs)[X];\n",
    "        }\n",
    "        try {\n",
    "            iY = stoi(sm[3].str());\n",
    "        } catch(exception& e) {\n",
    "            string Y = sm[3].str();\n",
    "            rs->insert(pair<string, int>(Y, 0));\n",
    "            iY = (*rs)[Y];\n",
    "        }\n",
    "        if (iX > 0) {\n",
    "            *pos += iY-1;\n",
    "        } \n",
    "    }\n",
    "}"
   ]
  },
  {
   "cell_type": "code",
   "execution_count": 10,
   "metadata": {},
   "outputs": [],
   "source": [
    "pos0 = 0;\n",
    "pos1 = 0;\n",
    "registers0.clear();\n",
    "registers1.clear();\n",
    "registers0.insert(pair<string, int>(\"p\", 0));\n",
    "registers1.insert(pair<string, int>(\"p\", 1));\n",
    "wait0 = false;\n",
    "wait1 = false;\n",
    "while(!q0.empty()) q0.pop();\n",
    "while(!q1.empty()) q1.pop();\n",
    "send0 = 0;\n",
    "send1 = 0;"
   ]
  },
  {
   "cell_type": "code",
   "execution_count": 11,
   "metadata": {},
   "outputs": [],
   "source": [
    "while (!(wait0 && wait1)) {\n",
    "    run_instruction2(instructions[pos0], &pos0, &registers0, &q0, &q1, &wait0, &wait1, &send0);\n",
    "    if (!wait0) pos0++;\n",
    "    run_instruction2(instructions[pos1], &pos1, &registers1, &q1, &q0, &wait1, &wait0, &send1);\n",
    "    if (!wait1) pos1++;\n",
    "}"
   ]
  },
  {
   "cell_type": "code",
   "execution_count": 12,
   "metadata": {},
   "outputs": [
    {
     "name": "stdout",
     "output_type": "stream",
     "text": [
      "(int) 5969\n"
     ]
    }
   ],
   "source": [
    "send1"
   ]
  },
  {
   "cell_type": "code",
   "execution_count": null,
   "metadata": {
    "collapsed": true
   },
   "outputs": [],
   "source": []
  }
 ],
 "metadata": {
  "kernelspec": {
   "display_name": "xeus C++14",
   "language": "",
   "name": "xeus-cling-cpp14"
  },
  "language_info": {
   "codemirror_mode": "text/x-c++src",
   "file_extension": ".cpp",
   "mimetype": "text/x-c++src",
   "name": "c++",
   "version": ""
  }
 },
 "nbformat": 4,
 "nbformat_minor": 2
}
