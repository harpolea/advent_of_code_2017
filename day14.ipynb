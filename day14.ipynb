{
 "cells": [
  {
   "cell_type": "code",
   "execution_count": 1,
   "metadata": {
    "collapsed": true
   },
   "outputs": [],
   "source": [
    "#include <iostream>\n",
    "#include <vector>\n",
    "#include <string>\n",
    "#include <sstream>\n",
    "#include <algorithm>    // std::reverse\n",
    "#include <iterator>\n",
    "#include <bitset>\n",
    "\n",
    "using namespace std;"
   ]
  },
  {
   "cell_type": "code",
   "execution_count": 2,
   "metadata": {
    "collapsed": true
   },
   "outputs": [],
   "source": [
    "auto sparse_hash(vector<int> lengths, int list_size, int nrounds) {\n",
    "    int pos = 0;\n",
    "    int skip = 0;\n",
    "    vector <int> l;\n",
    "    l.reserve(list_size);\n",
    "    for (int i = 0; i < list_size; i++) {\n",
    "        l.push_back(i);\n",
    "    }\n",
    "\n",
    "    for (int i = 0; i < nrounds; i++) {\n",
    "        for (auto it=lengths.begin(); it!=lengths.end(); ++it) {\n",
    "\n",
    "            if (*it > list_size) {\n",
    "                continue;\n",
    "            }\n",
    "            // rotate so pos is at start\n",
    "            // this helps deal with list circularity\n",
    "            rotate(l.begin(), l.begin()+pos, l.end());\n",
    "            reverse(l.begin(), l.begin()+*it);\n",
    "            // rotate back\n",
    "            rotate(l.begin(), l.begin()+(list_size-pos), l.end());\n",
    "            pos = (pos + *it + skip) % list_size;\n",
    "            skip++;\n",
    "        }\n",
    "    }\n",
    "    return l;\n",
    "}"
   ]
  },
  {
   "cell_type": "code",
   "execution_count": 3,
   "metadata": {
    "collapsed": true
   },
   "outputs": [],
   "source": [
    "auto dense_hash(vector <int> l) {\n",
    "    if (l.size() != 256)\n",
    "        cerr << \"List size is not 256!!\\n\";\n",
    "\n",
    "    vector <int> dense_hash;\n",
    "    dense_hash.reserve(16);\n",
    "    // do the bitwise xor of segments of length 16\n",
    "    for (int j = 0; j < 16; j++) {\n",
    "        int bitxor = l[j*16];\n",
    "        for (int i = 1; i < 16; i++) {\n",
    "            bitxor ^= l[j*16 + i];\n",
    "        }\n",
    "        dense_hash.push_back(bitxor);\n",
    "    }\n",
    "\n",
    "    string hexstring = \"\";\n",
    "    for (auto it = dense_hash.begin(); it!=dense_hash.end(); ++it) {\n",
    "        stringstream sstream;\n",
    "        sstream << hex << *it;\n",
    "        if (sstream.str().size() < 2) {\n",
    "            hexstring += '0' + sstream.str(); // pad with leading 0\n",
    "        } else {\n",
    "            hexstring += sstream.str();\n",
    "        }\n",
    "    }\n",
    "    return hexstring;\n",
    "}"
   ]
  },
  {
   "cell_type": "code",
   "execution_count": 4,
   "metadata": {
    "collapsed": true
   },
   "outputs": [],
   "source": [
    "auto ascii(string s) {\n",
    "    vector <int> codes;\n",
    "    codes.reserve(s.size()+5);\n",
    "    for (auto it = s.begin(); it!=s.end(); ++it) {\n",
    "        codes.push_back( (int) *it);\n",
    "    }\n",
    "\n",
    "    vector <int> extras = {17, 31, 73, 47, 23};\n",
    "    copy(extras.begin(), extras.end(), back_inserter(codes));\n",
    "    return codes;\n",
    "}"
   ]
  },
  {
   "cell_type": "code",
   "execution_count": 5,
   "metadata": {
    "collapsed": true
   },
   "outputs": [],
   "source": [
    "auto knot_hash(string s) {\n",
    "    vector <int> codes = ascii(s);\n",
    "    return dense_hash(sparse_hash(codes, 256, 64));\n",
    "}"
   ]
  },
  {
   "cell_type": "code",
   "execution_count": 6,
   "metadata": {},
   "outputs": [
    {
     "name": "stdout",
     "output_type": "stream",
     "text": [
      "(std::string &) \"d4f76bdcbf838f8416ccfa8bc6d1f9e6\"\n"
     ]
    }
   ],
   "source": [
    "string k = knot_hash(\"flqrgnkx-0\")"
   ]
  },
  {
   "cell_type": "code",
   "execution_count": 7,
   "metadata": {},
   "outputs": [],
   "source": [
    "auto hex_to_bin(char s) {\n",
    "    stringstream ss;\n",
    "    ss << hex << s;\n",
    "    unsigned n;\n",
    "    ss >> n;\n",
    "    bitset<4> b(n);\n",
    "    return b.to_string();\n",
    "}"
   ]
  },
  {
   "cell_type": "code",
   "execution_count": 8,
   "metadata": {},
   "outputs": [],
   "source": [
    "auto squares(string key) {\n",
    "    unsigned squares = 0;\n",
    "    for (auto i = 0; i < 128; i++) {\n",
    "        string bin = \"\";\n",
    "        string k = knot_hash(key + \"-\" + to_string(i));\n",
    "        for (auto it = k.begin(); it!=k.end(); ++it) {\n",
    "            string s = hex_to_bin(*it);\n",
    "            bin += hex_to_bin(*it);\n",
    "        }\n",
    "        // add up squares \n",
    "        for (auto it = bin.begin(); it!=bin.end(); ++it) {\n",
    "            squares += int(*it) - int('0');\n",
    "        }\n",
    "    }\n",
    "    return squares;\n",
    "}"
   ]
  },
  {
   "cell_type": "code",
   "execution_count": 9,
   "metadata": {},
   "outputs": [
    {
     "name": "stdout",
     "output_type": "stream",
     "text": [
      "(unsigned int) 8108\n"
     ]
    }
   ],
   "source": [
    "squares(\"flqrgnkx\")"
   ]
  },
  {
   "cell_type": "code",
   "execution_count": 10,
   "metadata": {},
   "outputs": [
    {
     "name": "stdout",
     "output_type": "stream",
     "text": [
      "(unsigned int) 8106\n"
     ]
    }
   ],
   "source": [
    "squares(\"oundnydw\")"
   ]
  },
  {
   "cell_type": "code",
   "execution_count": null,
   "metadata": {
    "collapsed": true
   },
   "outputs": [],
   "source": []
  }
 ],
 "metadata": {
  "kernelspec": {
   "display_name": "xeus C++14",
   "language": "",
   "name": "xeus-cling-cpp14"
  },
  "language_info": {
   "codemirror_mode": "text/x-c++src",
   "file_extension": ".cpp",
   "mimetype": "text/x-c++src",
   "name": "c++",
   "version": ""
  }
 },
 "nbformat": 4,
 "nbformat_minor": 2
}
