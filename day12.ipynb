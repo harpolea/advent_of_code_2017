{
 "cells": [
  {
   "cell_type": "code",
   "execution_count": 1,
   "metadata": {},
   "outputs": [],
   "source": [
    "#include <iostream>\n",
    "#include <vector>\n",
    "#include <string>\n",
    "#include <sstream>\n",
    "#include <fstream>\n",
    "#include <iterator>\n",
    "#include <map>\n",
    "#include <regex>\n",
    "#include <set>\n",
    "\n",
    "using namespace std;\n",
    "auto traverse(int node, set <int> zerogroup, map<int, vector<int>> nodes);"
   ]
  },
  {
   "cell_type": "code",
   "execution_count": 2,
   "metadata": {},
   "outputs": [],
   "source": [
    "auto traverse(int node, set <int> zerogroup, map<int, set<int>> nodes) {\n",
    "    // node is in set\n",
    "    if (zerogroup.find(node) != zerogroup.end()) {\n",
    "        return zerogroup;\n",
    "    } else {\n",
    "        zerogroup.insert(node);\n",
    "        for (auto it=nodes[node].begin(); it!=nodes[node].end(); ++it) {\n",
    "            zerogroup = traverse(*it, zerogroup, nodes);\n",
    "        }\n",
    "    }\n",
    "    return zerogroup;\n",
    "}"
   ]
  },
  {
   "cell_type": "code",
   "execution_count": 3,
   "metadata": {
    "collapsed": true
   },
   "outputs": [],
   "source": [
    "auto get_group(map <int, set<int>> nodes, int zero) {\n",
    "    set <int> group = {zero};\n",
    "    \n",
    "    for (auto it = nodes[zero].begin(); it!=nodes[zero].end(); ++it) {\n",
    "        group = traverse(*it, group, nodes);\n",
    "    }\n",
    "    \n",
    "    return group;\n",
    "}"
   ]
  },
  {
   "cell_type": "code",
   "execution_count": 4,
   "metadata": {},
   "outputs": [],
   "source": [
    "auto groupsize(string filename, bool part1) {\n",
    "    ifstream sstream(filename);\n",
    "    string ss;\n",
    "    map <int, set<int>> nodes;\n",
    "    regex re(\"(\\\\d+)\");\n",
    "    set <int> blank = {0};\n",
    "\n",
    "    while (getline(sstream, ss)) {\n",
    "        vector <string> svec;\n",
    "        copy(sregex_token_iterator(ss.begin(), ss.end(), re, 1), sregex_token_iterator(),\n",
    "          back_inserter(svec));\n",
    "        \n",
    "        if (svec.size() > 1) {\n",
    "            int key = stoi(svec[0]);\n",
    "            set <int> keyset = {key};\n",
    "            nodes.insert(pair<int, set<int>>(key, blank));\n",
    "            \n",
    "            for (auto it=svec.begin()+1; it!=svec.end(); ++it) {\n",
    "                int i = stoi(*it);\n",
    "                nodes[key].insert(i);\n",
    "                if (!nodes.insert(pair<int, set<int>>(i, keyset)).second) nodes[i].insert(key);\n",
    "            }\n",
    "        }\n",
    "    }\n",
    "    \n",
    "    if (part1) {\n",
    "        set <int> zerogroup = get_group(nodes, 0);\n",
    "        cout << \"zerogroup size = \" << zerogroup.size() << '\\n';\n",
    "    } else {\n",
    "        int n_groups = 0;\n",
    "        while (!nodes.empty()) {\n",
    "            set <int> group = get_group(nodes, nodes.begin()->first);\n",
    "            // remove all elements of group from map\n",
    "            for (auto it=group.begin(); it!=group.end(); ++it) {\n",
    "                auto iter = nodes.find(*it);\n",
    "                if (iter != nodes.end()) nodes.erase(iter);\n",
    "            }\n",
    "            n_groups++;\n",
    "        }\n",
    "        cout << \"There are \" << n_groups << \" groups.\\n\";\n",
    "    }\n",
    "} "
   ]
  },
  {
   "cell_type": "code",
   "execution_count": 5,
   "metadata": {},
   "outputs": [
    {
     "name": "stdout",
     "output_type": "stream",
     "text": [
      "zerogroup size = 380\n"
     ]
    }
   ],
   "source": [
    "groupsize(\"day12.txt\", true);"
   ]
  },
  {
   "cell_type": "code",
   "execution_count": 6,
   "metadata": {},
   "outputs": [
    {
     "name": "stdout",
     "output_type": "stream",
     "text": [
      "There are 181 groups.\n"
     ]
    }
   ],
   "source": [
    "groupsize(\"day12.txt\", false);"
   ]
  }
 ],
 "metadata": {
  "kernelspec": {
   "display_name": "xeus C++14",
   "language": "",
   "name": "xeus-cling-cpp14"
  },
  "language_info": {
   "codemirror_mode": "text/x-c++src",
   "file_extension": ".cpp",
   "mimetype": "text/x-c++src",
   "name": "c++",
   "version": ""
  }
 },
 "nbformat": 4,
 "nbformat_minor": 2
}
