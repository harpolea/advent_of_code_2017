{
 "cells": [
  {
   "cell_type": "code",
   "execution_count": 1,
   "metadata": {
    "collapsed": true
   },
   "outputs": [],
   "source": [
    "#include <iostream>\n",
    "#include <vector>\n",
    "#include <string>\n",
    "#include <sstream>\n",
    "#include <fstream>\n",
    "#include <iterator>\n",
    "#include <algorithm>\n",
    "#include <regex>\n",
    "\n",
    "using namespace std;"
   ]
  },
  {
   "cell_type": "code",
   "execution_count": 2,
   "metadata": {
    "collapsed": true
   },
   "outputs": [],
   "source": [
    "string filename = \"day16.txt\";\n",
    "ifstream sstream(filename);\n",
    "string ss;\n",
    "vector <string> moves;\n",
    "regex re(\"([a-z0-9/]+)\");"
   ]
  },
  {
   "cell_type": "code",
   "execution_count": 3,
   "metadata": {},
   "outputs": [],
   "source": [
    "// read moves and put into a vector\n",
    "while (getline(sstream, ss)) {\n",
    "    copy(sregex_token_iterator(ss.begin(), ss.end(), re, 0), sregex_token_iterator(),\n",
    "      back_inserter(moves));\n",
    "}"
   ]
  },
  {
   "cell_type": "code",
   "execution_count": 4,
   "metadata": {},
   "outputs": [],
   "source": [
    "vector <string> programs;\n",
    "const int nprograms = 16;\n",
    "programs.reserve(nprograms);\n",
    "int nreps;"
   ]
  },
  {
   "cell_type": "code",
   "execution_count": 5,
   "metadata": {},
   "outputs": [],
   "source": [
    "// make vector of programs\n",
    "for (auto i=0; i < nprograms; i++) {\n",
    "    programs.push_back(string(1,'a'+(char)i));\n",
    "}"
   ]
  },
  {
   "cell_type": "code",
   "execution_count": 6,
   "metadata": {
    "collapsed": true
   },
   "outputs": [],
   "source": [
    "regex spin(\"s(\\\\d+)\");\n",
    "regex xswap(\"x(\\\\d+)/(\\\\d+)\");\n",
    "regex pswap(\"p([a-z]+)/([a-z]+)\");\n",
    "smatch sm;\n",
    "int cycle_size = 0;\n",
    "bool equall = false;"
   ]
  },
  {
   "cell_type": "code",
   "execution_count": 7,
   "metadata": {
    "collapsed": true
   },
   "outputs": [],
   "source": [
    "// do dance\n",
    "void rotate_me(vector <string> moves, vector <string> *programs) {\n",
    "    regex spin(\"s(\\\\d+)\");\n",
    "    regex xswap(\"x(\\\\d+)/(\\\\d+)\");\n",
    "    regex pswap(\"p([a-z]+)/([a-z]+)\");\n",
    "    smatch sm;\n",
    "    for (auto it=moves.begin(); it!=moves.end(); ++it) {\n",
    "        if (regex_match(*it, sm, spin)) {\n",
    "            rotate(programs->begin(), programs->end()-stoi(sm[1].str()), programs->end());\n",
    "        } else if(regex_match(*it, sm, xswap)) {\n",
    "            iter_swap(programs->begin()+stoi(sm[1].str()), programs->begin()+stoi(sm[2].str()));\n",
    "        } else if(regex_match(*it, sm, pswap)) {\n",
    "            auto ait = find(programs->begin(), programs->end(), sm[1].str());\n",
    "            auto bit = find(programs->begin(), programs->end(), sm[2].str());\n",
    "            iter_swap(ait, bit);\n",
    "        }    \n",
    "    }\n",
    "}"
   ]
  },
  {
   "cell_type": "markdown",
   "metadata": {},
   "source": [
    "## Part 1"
   ]
  },
  {
   "cell_type": "code",
   "execution_count": 12,
   "metadata": {},
   "outputs": [
    {
     "name": "stdout",
     "output_type": "stream",
     "text": [
      "fnlebojgkaidchpm"
     ]
    }
   ],
   "source": [
    "// execute once\n",
    "rotate_me(moves, &programs);\n",
    "for (auto jit=programs.begin(); jit!=programs.end(); ++jit) {\n",
    "        cout << *jit;\n",
    "}"
   ]
  },
  {
   "cell_type": "markdown",
   "metadata": {},
   "source": [
    "## Part 2"
   ]
  },
  {
   "cell_type": "code",
   "execution_count": 13,
   "metadata": {
    "collapsed": true
   },
   "outputs": [],
   "source": [
    "// reset programs\n",
    "programs.clear();\n",
    "for (auto i=0; i < nprograms; i++) {\n",
    "    programs.push_back(string(1,'a'+(char)i));\n",
    "}"
   ]
  },
  {
   "cell_type": "code",
   "execution_count": 14,
   "metadata": {
    "collapsed": true
   },
   "outputs": [],
   "source": [
    "// find size of cycle as 1 billion reps is infeasible\n",
    "while (!equall) {\n",
    "    cycle_size++;\n",
    "    rotate_me(moves, &programs);\n",
    "    // check to see if back to start\n",
    "    equall = true;\n",
    "    for (auto i=0; i<nprograms; i++) {\n",
    "        if (programs[i] != string(1,'a'+(char)i)) {\n",
    "            equall = false;\n",
    "            break;\n",
    "        }\n",
    "    }\n",
    "}"
   ]
  },
  {
   "cell_type": "code",
   "execution_count": 15,
   "metadata": {
    "collapsed": true
   },
   "outputs": [],
   "source": [
    "programs.clear();\n",
    "for (auto i=0; i < nprograms; i++) {\n",
    "    programs.push_back(string(1,'a'+(char)i));\n",
    "}"
   ]
  },
  {
   "cell_type": "code",
   "execution_count": 16,
   "metadata": {},
   "outputs": [],
   "source": [
    "nreps = 1000000000 % cycle_size;\n",
    "for (auto i = 0; i < nreps; i++) {\n",
    "    rotate_me(moves, &programs);\n",
    "}"
   ]
  },
  {
   "cell_type": "code",
   "execution_count": 17,
   "metadata": {},
   "outputs": [
    {
     "name": "stdout",
     "output_type": "stream",
     "text": [
      "gjmiofcnaehpdlbk"
     ]
    }
   ],
   "source": [
    "for (auto jit=programs.begin(); jit!=programs.end(); ++jit) {\n",
    "        cout << *jit;\n",
    "    }"
   ]
  }
 ],
 "metadata": {
  "kernelspec": {
   "display_name": "xeus C++14",
   "language": "",
   "name": "xeus-cling-cpp14"
  },
  "language_info": {
   "codemirror_mode": "text/x-c++src",
   "file_extension": ".cpp",
   "mimetype": "text/x-c++src",
   "name": "c++",
   "version": ""
  }
 },
 "nbformat": 4,
 "nbformat_minor": 2
}
