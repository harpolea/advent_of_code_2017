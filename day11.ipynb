{
 "cells": [
  {
   "cell_type": "code",
   "execution_count": 1,
   "metadata": {
    "collapsed": true
   },
   "outputs": [],
   "source": [
    "#include <iostream>\n",
    "#include <vector>\n",
    "#include <string>\n",
    "#include <sstream>\n",
    "#include <fstream>\n",
    "#include <iterator>\n",
    "#include <map>\n",
    "#include <algorithm>\n",
    "#include <regex>\n",
    "\n",
    "using namespace std;"
   ]
  },
  {
   "cell_type": "code",
   "execution_count": 2,
   "metadata": {},
   "outputs": [],
   "source": [
    "auto dist(pair<int, int> pos) {\n",
    "    if (pos.first * pos.second < 0) {\n",
    "        return max(abs(pos.first), abs(pos.second));\n",
    "    } else {\n",
    "        return abs(pos.first) + abs(pos.second);\n",
    "    }\n",
    "}"
   ]
  },
  {
   "cell_type": "code",
   "execution_count": 3,
   "metadata": {},
   "outputs": [],
   "source": [
    "template <typename T,typename U>\n",
    "pair<T,U> operator+(const pair<T,U> & l,const pair<T,U> & r) {   \n",
    "    return {l.first+r.first,l.second+r.second};                                    \n",
    "} \n",
    "\n",
    "auto operator>(const pair<int,int> & l,const pair<int,int> & r) {   \n",
    "    return (dist(l) > dist(r));\n",
    "} "
   ]
  },
  {
   "cell_type": "code",
   "execution_count": 4,
   "metadata": {},
   "outputs": [],
   "source": [
    "auto steps(vector <string> dirs) {\n",
    "    // represent directions using a basis\n",
    "    map <string, pair<int, int>> basis;\n",
    "    basis.insert(pair<string, pair<int, int>>(\"n\", pair<int, int>(0, 1)));\n",
    "    basis.insert(pair<string, pair<int, int>>(\"ne\", pair<int, int>(1, 0)));\n",
    "    basis.insert(pair<string, pair<int, int>>(\"se\", pair<int, int>(1, -1)));\n",
    "    basis.insert(pair<string, pair<int, int>>(\"s\", pair<int, int>(0, -1)));\n",
    "    basis.insert(pair<string, pair<int, int>>(\"sw\", pair<int, int>(-1, 0)));\n",
    "    basis.insert(pair<string, pair<int, int>>(\"nw\", pair<int, int>(-1, 1)));\n",
    "    \n",
    "    pair<int, int> pos(0,0);\n",
    "    pair<int, int> furthest(0,0);\n",
    "    \n",
    "    for (auto it=dirs.begin(); it!=dirs.end(); ++it) {\n",
    "        pos = pos + basis[*it];\n",
    "    \n",
    "        if (pos > furthest) {\n",
    "            furthest = pos;\n",
    "        }\n",
    "    }\n",
    "    \n",
    "    return pair <int, int>(dist(pos), dist(furthest));\n",
    "}"
   ]
  },
  {
   "cell_type": "code",
   "execution_count": 5,
   "metadata": {},
   "outputs": [],
   "source": [
    "auto read_file(string filename) {\n",
    "    ifstream sstream(filename);\n",
    "    string ss;\n",
    "    vector <string> dirs;\n",
    "    \n",
    "    while(getline(sstream, ss, ',')) {\n",
    "        ss.erase(remove(ss.begin(), ss.end(), '\\n'), ss.end());\n",
    "        dirs.push_back(ss);\n",
    "    }\n",
    "    \n",
    "    return dirs;\n",
    "}"
   ]
  },
  {
   "cell_type": "code",
   "execution_count": 6,
   "metadata": {},
   "outputs": [],
   "source": [
    "auto read_string(string instring) {\n",
    "    istringstream sstream(instring);\n",
    "    string ss;\n",
    "    vector <string> dirs;\n",
    "    \n",
    "    while(getline(sstream, ss, ',')) {\n",
    "        dirs.push_back(ss);\n",
    "    }\n",
    "    \n",
    "    return dirs;\n",
    "}"
   ]
  },
  {
   "cell_type": "markdown",
   "metadata": {},
   "source": [
    "Test cases"
   ]
  },
  {
   "cell_type": "code",
   "execution_count": 7,
   "metadata": {
    "scrolled": true
   },
   "outputs": [
    {
     "name": "stdout",
     "output_type": "stream",
     "text": [
      "(bool) true\n"
     ]
    }
   ],
   "source": [
    "steps(read_string(\"ne,ne,ne\")).first == 3 &&\n",
    "    steps(read_string(\"ne,ne,sw,sw\")).first == 0 &&\n",
    "    steps(read_string(\"ne,ne,s,s\")).first == 2 &&\n",
    "    steps(read_string(\"se,sw,se,sw,sw\")).first == 3 "
   ]
  },
  {
   "cell_type": "markdown",
   "metadata": {},
   "source": [
    "Puzzle case"
   ]
  },
  {
   "cell_type": "code",
   "execution_count": 8,
   "metadata": {},
   "outputs": [
    {
     "name": "stdout",
     "output_type": "stream",
     "text": [
      "(std::pair<int, int>) { 715, 1512 }\n"
     ]
    }
   ],
   "source": [
    "steps(read_file(\"day11.txt\"))"
   ]
  }
 ],
 "metadata": {
  "kernelspec": {
   "display_name": "xeus C++14",
   "language": "",
   "name": "xeus-cling-cpp14"
  },
  "language_info": {
   "codemirror_mode": "text/x-c++src",
   "file_extension": ".cpp",
   "mimetype": "text/x-c++src",
   "name": "c++",
   "version": ""
  }
 },
 "nbformat": 4,
 "nbformat_minor": 2
}
