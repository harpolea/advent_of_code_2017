{
 "cells": [
  {
   "cell_type": "code",
   "execution_count": 1,
   "metadata": {
    "collapsed": true
   },
   "outputs": [],
   "source": [
    "#include <iostream>\n",
    "#include <vector>\n",
    "#include <string>\n",
    "#include <sstream>\n",
    "#include <fstream>\n",
    "#include <iterator>\n",
    "#include <map>\n",
    "#include <regex>\n",
    "#include <set>\n",
    "\n",
    "using namespace std;"
   ]
  },
  {
   "cell_type": "code",
   "execution_count": 2,
   "metadata": {},
   "outputs": [],
   "source": [
    "// firewall is vector of (range, scanner position) pairs\n",
    "auto calc_severity(vector <pair<int, int>> * firewall, string filename, int starttime, bool * caught, bool part2) {\n",
    "    *caught = false;\n",
    "    if (firewall->empty()) {\n",
    "        ifstream sstream(filename);\n",
    "        string ss;\n",
    "        regex re(\"(\\\\d+):\\\\s(\\\\d+)\");\n",
    "\n",
    "        // initialise\n",
    "        while (getline(sstream, ss)) {\n",
    "            smatch sm;\n",
    "            regex_match(ss, sm, re);\n",
    "            // pad out vector \n",
    "            int depth = stoi(sm[1].str());\n",
    "            int range = stoi(sm[2].str());\n",
    "            while(firewall->size() < depth) {\n",
    "                firewall->push_back(pair<int, int>(0, 0));\n",
    "            }\n",
    "            firewall->push_back(pair<int, int>(range, starttime % (2 * range - 2)));\n",
    "        }\n",
    "    } else {\n",
    "        for (auto it=firewall->begin(); it!=firewall->end(); ++it) {\n",
    "            if(it->first > 0) {\n",
    "                (*it).second = starttime % (2 * it->first - 2);\n",
    "            }\n",
    "        }\n",
    "    }\n",
    "\n",
    "    int severity = 0;\n",
    "\n",
    "    for (auto i = 0; i < firewall->size(); i++) {\n",
    "        // have we been caught?\n",
    "        if ((*firewall)[i].first > 0 && (*firewall)[i].second == 0) {\n",
    "            *caught = true;\n",
    "            severity += i * (*firewall)[i].first;\n",
    "        }\n",
    "        \n",
    "        if (part2 && *caught) break;\n",
    "        \n",
    "        // move scanners\n",
    "        for (auto it=firewall->begin(); it!=firewall->end(); ++it) {\n",
    "            (*it).second = (it->second + 1) % (2 * it-> first - 2);\n",
    "        }        \n",
    "\n",
    "    }\n",
    "\n",
    "    return severity;\n",
    "}"
   ]
  },
  {
   "cell_type": "code",
   "execution_count": 3,
   "metadata": {
    "collapsed": true
   },
   "outputs": [],
   "source": [
    "bool caught = false;\n",
    "vector <pair<int, int>> firewall;"
   ]
  },
  {
   "cell_type": "markdown",
   "metadata": {},
   "source": [
    "## Part 1"
   ]
  },
  {
   "cell_type": "code",
   "execution_count": 5,
   "metadata": {},
   "outputs": [
    {
     "name": "stdout",
     "output_type": "stream",
     "text": [
      "(int) 1960\n"
     ]
    }
   ],
   "source": [
    "calc_severity(&firewall, \"day13.txt\", 0, &caught, false)"
   ]
  },
  {
   "cell_type": "markdown",
   "metadata": {},
   "source": [
    "## Part 2"
   ]
  },
  {
   "cell_type": "code",
   "execution_count": 9,
   "metadata": {
    "collapsed": true
   },
   "outputs": [],
   "source": [
    "int delay = 0;"
   ]
  },
  {
   "cell_type": "code",
   "execution_count": 14,
   "metadata": {},
   "outputs": [
    {
     "name": "stdout",
     "output_type": "stream",
     "text": [
      "3903378\n"
     ]
    }
   ],
   "source": [
    "caught = true;\n",
    "while(caught && delay < 10000000) { // > 29508\n",
    "    delay+=2;\n",
    "    calc_severity(&firewall, \"day13.txt\", delay, &caught, true);\n",
    "}\n",
    "cout << delay << '\\n';"
   ]
  }
 ],
 "metadata": {
  "kernelspec": {
   "display_name": "xeus C++14",
   "language": "",
   "name": "xeus-cling-cpp14"
  },
  "language_info": {
   "codemirror_mode": "text/x-c++src",
   "file_extension": ".cpp",
   "mimetype": "text/x-c++src",
   "name": "c++",
   "version": ""
  }
 },
 "nbformat": 4,
 "nbformat_minor": 2
}
