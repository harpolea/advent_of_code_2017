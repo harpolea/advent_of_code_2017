{
 "cells": [
  {
   "cell_type": "markdown",
   "metadata": {},
   "source": [
    "# Day 7 solutions\n",
    "\n",
    "My solutions to [Day 7](http://adventofcode.com/2017/day/7): Rescursive Circus. \n",
    "\n",
    "I found the second part of this problem to be rather tricky - I tried to represent the tree as a dictionary/map, but unfortuantely the way I'd built the tree from the input (children as keys, parents as values) didn't really work well with how I wanted to solve the second part (starting from the top of the tree and moving down to the leaves). This meant I had to invert the tree, hence the somewhat messy code that has resulted. However, I certainly lot about maps in C++ along the way!"
   ]
  },
  {
   "cell_type": "code",
   "execution_count": 1,
   "metadata": {},
   "outputs": [],
   "source": [
    "#include <iostream>\n",
    "#include <vector>\n",
    "#include <string>\n",
    "#include <sstream>\n",
    "#include <iterator>\n",
    "#include <regex>\n",
    "#include <fstream>\n",
    "#include <algorithm>\n",
    "#include <map>\n",
    "#include <set>\n",
    "\n",
    "using namespace std;\n",
    "\n",
    "int recurse(map <string, pair<string,int>> tower, map <string, pair<vector<string>, int>> tree, \n",
    "             string, bool terminate);"
   ]
  },
  {
   "cell_type": "code",
   "execution_count": 2,
   "metadata": {},
   "outputs": [],
   "source": [
    "auto part1(string filename) {\n",
    "    map <string, string> tower;\n",
    "    ifstream filestream(filename);\n",
    "    string s;  \n",
    "    \n",
    "    while (getline(filestream, s)) {\n",
    "        vector <string> names;\n",
    "        regex re(\"([a-z]{4,8})\");\n",
    "        copy(sregex_token_iterator(s.begin(), s.end(), re, 1), sregex_token_iterator(),\n",
    "          back_inserter(names));\n",
    "        tower.insert(pair<string,string>(*names.begin(),\"\"));\n",
    "        for (auto it=names.begin()+1; it!=names.end(); ++it) {\n",
    "            tower[*it] = *names.begin();\n",
    "        }\n",
    "    }\n",
    "    \n",
    "    // search for key with \"\" as value\n",
    "    for (auto it=tower.begin(); it!=tower.end(); ++it) {\n",
    "        if (it->second == \"\") return it->first;\n",
    "    }\n",
    "    return string(\"None found\");\n",
    "}"
   ]
  },
  {
   "cell_type": "code",
   "execution_count": 3,
   "metadata": {},
   "outputs": [
    {
     "name": "stdout",
     "output_type": "stream",
     "text": [
      "(std::basic_string<char>) \"ahnofa\"\n"
     ]
    }
   ],
   "source": [
    "part1(\"day7.txt\")"
   ]
  },
  {
   "cell_type": "code",
   "execution_count": 4,
   "metadata": {},
   "outputs": [],
   "source": [
    "int recurse(map <string, pair<string,int>> tower, map <string, pair<vector<string>, int>> tree, \n",
    "             string node, bool terminate) {\n",
    "    if (terminate) return 0;\n",
    "    if (tree[node].second > 0) return tree[node].second;\n",
    "    \n",
    "    int weight = tower[node].second;\n",
    "    if (tree[node].first.size() > 0) { // do the recursion\n",
    "        map <int, string> map_weights; \n",
    "        for (auto it=tree[node].first.begin(); it!=tree[node].first.end(); ++it) {\n",
    "            int w = recurse(tower, tree, *it, terminate);\n",
    "            \n",
    "            if (terminate) return 0;\n",
    "            \n",
    "            map_weights[w] = *it;\n",
    "            weight+= w;\n",
    "        }\n",
    "\n",
    "        if (map_weights.size() > 1 && !(terminate)) { // if dictionary is larger than 1, have multiple weights\n",
    "            terminate = true;\n",
    "            // going assume the wrong one is always the higher\n",
    "            auto last = map_weights.rbegin()->second;\n",
    "            cout << \"Current weight of \" << last << \" is \" << tower[last].second << \n",
    "                \". New weight is \" << tower[last].second - abs(map_weights.rbegin()->first - map_weights.begin()->first);\n",
    "            cout << '\\n';\n",
    "            return 0;\n",
    "        }\n",
    "    } \n",
    "    tree[node].second = weight;\n",
    "    return weight;\n",
    "}"
   ]
  },
  {
   "cell_type": "code",
   "execution_count": 5,
   "metadata": {},
   "outputs": [],
   "source": [
    "auto part2(string filename) {\n",
    "    map <string, pair<string,int>> tower; // leaf, (parent, weight)\n",
    "    ifstream filestream(filename);\n",
    "    string s;  \n",
    "    \n",
    "    while (getline(filestream, s)) {\n",
    "        vector <string> names;\n",
    "        regex re(\"([a-z]{4,8})\");\n",
    "        copy(sregex_token_iterator(s.begin(), s.end(), re, 1), sregex_token_iterator(),\n",
    "          back_inserter(names));\n",
    "        regex num(\"\\\\d+\");\n",
    "        smatch ma;\n",
    "        regex_search(s, ma, num);\n",
    "        tower.insert(pair<string,pair<string,int>>(*names.begin(),pair<string, int>(\"\", stoi(ma[0]))));\n",
    "        tower[*names.begin()].second = stoi(ma[0]);\n",
    "        for (auto it=names.begin()+1; it!=names.end(); ++it) {\n",
    "            tower.insert(pair<string,pair<string,int>>(*it,pair<string, int>(*names.begin(), 0)));\n",
    "            tower[*it].first = *names.begin();\n",
    "        }\n",
    "    }\n",
    "    \n",
    "    string top;\n",
    "    \n",
    "    for (auto it=tower.begin(); it!=tower.end(); ++it) {\n",
    "        if ((it->second).first == \"\") {\n",
    "            top = it->first;\n",
    "            break;\n",
    "        }\n",
    "    }\n",
    "    \n",
    "    // invert previous tree\n",
    "    map <string, pair<vector<string>, int>> tree; // parent, (list of children, sum of weights)\n",
    "    vector <string> blank;\n",
    "    for (auto it=tower.begin(); it!=tower.end(); ++it) {\n",
    "        tree.insert(pair<string, pair<vector<string>, int>>((it->second).first, pair<vector<string>, int>(blank, 0)));\n",
    "        tree[(it->second).first].first.push_back(it->first); \n",
    "    }\n",
    "    \n",
    "    recurse(tower, tree, top, false);\n",
    "}"
   ]
  },
  {
   "cell_type": "markdown",
   "metadata": {},
   "source": [
    "Note that the output for this is extraneous due to the recursion - only need to pay attention to first line."
   ]
  },
  {
   "cell_type": "code",
   "execution_count": 6,
   "metadata": {},
   "outputs": [
    {
     "name": "stdout",
     "output_type": "stream",
     "text": [
      "Current weight of ltleg is 808. New weight is 802\n",
      "Current weight of uppcjl is 9128. New weight is -4836\n",
      "Current weight of xdpxpu is 65117. New weight is -4758\n"
     ]
    }
   ],
   "source": [
    "part2(\"day7.txt\")"
   ]
  },
  {
   "cell_type": "code",
   "execution_count": null,
   "metadata": {
    "collapsed": true
   },
   "outputs": [],
   "source": []
  }
 ],
 "metadata": {
  "kernelspec": {
   "display_name": "xeus C++14",
   "language": "",
   "name": "xeus-cling-cpp14"
  },
  "language_info": {
   "codemirror_mode": "text/x-c++src",
   "file_extension": ".cpp",
   "mimetype": "text/x-c++src",
   "name": "c++",
   "version": ""
  }
 },
 "nbformat": 4,
 "nbformat_minor": 2
}
